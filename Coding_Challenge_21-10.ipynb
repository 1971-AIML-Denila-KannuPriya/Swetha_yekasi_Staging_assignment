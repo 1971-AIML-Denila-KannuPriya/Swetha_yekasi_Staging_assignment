{
 "cells": [
  {
   "cell_type": "markdown",
   "id": "0c82bf9a-8a38-4d31-bfcb-558beca834a2",
   "metadata": {},
   "source": [
    "# 1. Problem: Implement a Python function to calculate the mean squared error (MSE)  between two lists of predicted and actual value"
   ]
  },
  {
   "cell_type": "code",
   "execution_count": 1,
   "id": "4942bf59-30f9-4c37-b717-51a7265b1072",
   "metadata": {},
   "outputs": [
    {
     "name": "stdout",
     "output_type": "stream",
     "text": [
      "Mean Squared Error: 0.375\n"
     ]
    }
   ],
   "source": [
    "def calculate_mse(actual, predicted):\n",
    "    n = len(actual)\n",
    "    mse = sum((a - p) ** 2 for a, p in zip(actual, predicted)) / n\n",
    "    return mse\n",
    "\n",
    "actual_values = [3, -0.5, 2, 7]\n",
    "predicted_values = [2.5, 0.0, 2, 8]\n",
    "\n",
    "mse = calculate_mse(actual_values, predicted_values)\n",
    "print(\"Mean Squared Error:\", mse)\n"
   ]
  },
  {
   "cell_type": "markdown",
   "id": "24f70948-12c2-4a92-9f50-f19586dab322",
   "metadata": {},
   "source": [
    "#  2. Problem: Write a function to generate synthetic data using the Gaussian mixture model (GMM) algorithm from scratch. The function should return clusters of data points."
   ]
  },
  {
   "cell_type": "code",
   "execution_count": 2,
   "id": "d153f46d-d363-43c0-a770-0661eddb80bc",
   "metadata": {},
   "outputs": [
    {
     "name": "stdout",
     "output_type": "stream",
     "text": [
      "[[ 0.87435981  1.71951193]\n",
      " [ 3.11320038  2.99835213]\n",
      " [ 3.30758202 -0.83713635]\n",
      " [ 1.22059806  2.07739707]\n",
      " [ 0.68165413  1.47357429]]\n"
     ]
    }
   ],
   "source": [
    "import numpy as np\n",
    "\n",
    "def generate_synthetic_data_gmm(n_points, means, covariances, weights):\n",
    "    n_clusters = len(means)\n",
    "    clusters = []\n",
    "    \n",
    "    for i in range(n_clusters):\n",
    "        n_cluster_points = int(n_points * weights[i])\n",
    "        cluster_points = np.random.multivariate_normal(means[i], covariances[i], n_cluster_points)\n",
    "        clusters.append(cluster_points)\n",
    "    \n",
    "    return np.vstack(clusters)\n",
    "\n",
    "means = [[1, 1], [5, 5], [9, 9]]\n",
    "covariances = [[[1, 0], [0, 1]], [[1, 0.5], [0.5, 1]], [[1, -0.5], [-0.5, 1]]]\n",
    "weights = [0.3, 0.4, 0.3]\n",
    "n_points = 500\n",
    "\n",
    "data = generate_synthetic_data_gmm(n_points, means, covariances, weights)\n",
    "print(data[:5])  # Print first 5 generated data points\n"
   ]
  },
  {
   "cell_type": "markdown",
   "id": "910778ae-c3e0-4af8-b401-1f13076cebdb",
   "metadata": {},
   "source": [
    "#  3. Problem: Implement a Python function to apply batch normalization to a layer's activations in a neural network."
   ]
  },
  {
   "cell_type": "code",
   "execution_count": 3,
   "id": "de1f64b0-bb31-4377-97a0-a1d77892d5e6",
   "metadata": {},
   "outputs": [
    {
     "name": "stdout",
     "output_type": "stream",
     "text": [
      "Batch Normalized Output:\n",
      " [[-1.22474385 -1.22474385 -1.22474385]\n",
      " [ 0.          0.          0.        ]\n",
      " [ 1.22474385  1.22474385  1.22474385]]\n"
     ]
    }
   ],
   "source": [
    "import numpy as np\n",
    "\n",
    "def batch_normalization(x, gamma, beta, epsilon=1e-5):\n",
    "    mean = np.mean(x, axis=0)\n",
    "    variance = np.var(x, axis=0)\n",
    "    \n",
    "    x_normalized = (x - mean) / np.sqrt(variance + epsilon)\n",
    "    output = gamma * x_normalized + beta\n",
    "    \n",
    "    return output\n",
    "\n",
    "# Example usage\n",
    "x = np.array([[1, 2, 3], [4, 5, 6], [7, 8, 9]])\n",
    "gamma = np.ones(x.shape[1])\n",
    "beta = np.zeros(x.shape[1])\n",
    "\n",
    "normalized_output = batch_normalization(x, gamma, beta)\n",
    "print(\"Batch Normalized Output:\\n\", normalized_output)\n"
   ]
  },
  {
   "cell_type": "markdown",
   "id": "ab741f64-a1c8-4e69-9a49-e723e02dcbab",
   "metadata": {},
   "source": [
    "# 4. Problem: Write a function to calculate the Jaccard similarity between two sets, often used in text mining and natural language processing tasks."
   ]
  },
  {
   "cell_type": "code",
   "execution_count": 4,
   "id": "6dc2088c-acd6-4092-bec9-c45c0104c46f",
   "metadata": {},
   "outputs": [
    {
     "name": "stdout",
     "output_type": "stream",
     "text": [
      "Jaccard Similarity: 0.5\n"
     ]
    }
   ],
   "source": [
    "def jaccard_similarity(set1, set2):\n",
    "    intersection = len(set1.intersection(set2))\n",
    "    union = len(set1.union(set2))\n",
    "    return intersection / union\n",
    "\n",
    "# Example usage\n",
    "set1 = {\"apple\", \"banana\", \"cherry\"}\n",
    "set2 = {\"banana\", \"cherry\", \"date\"}\n",
    "\n",
    "similarity = jaccard_similarity(set1, set2)\n",
    "print(\"Jaccard Similarity:\", similarity)\n"
   ]
  },
  {
   "cell_type": "markdown",
   "id": "088b1df3-7a4d-41c7-9380-4b5a1a933e28",
   "metadata": {},
   "source": [
    "# 5. Problem: Implement the stochastic gradient descent (SGD) algorithm for training a logistic regression model."
   ]
  },
  {
   "cell_type": "code",
   "execution_count": 5,
   "id": "f2c86497-d81c-4739-b75b-4b80a4359c1a",
   "metadata": {},
   "outputs": [
    {
     "name": "stdout",
     "output_type": "stream",
     "text": [
      "Epoch 0, Loss: 0.6738202199158428\n",
      "Epoch 100, Loss: 0.5420420268802115\n",
      "Epoch 200, Loss: 0.46435187884500195\n",
      "Epoch 300, Loss: 0.4070210787524631\n",
      "Epoch 400, Loss: 0.3635911900399638\n",
      "Epoch 500, Loss: 0.32978395574707187\n",
      "Epoch 600, Loss: 0.30279119425450296\n",
      "Epoch 700, Loss: 0.2807480033585889\n",
      "Epoch 800, Loss: 0.2623902352081956\n",
      "Epoch 900, Loss: 0.246840651599739\n",
      "Trained weights: [ 2.32668204 -0.69940598]\n",
      "Trained bias: -3.0260880256176055\n"
     ]
    }
   ],
   "source": [
    "import numpy as np\n",
    "\n",
    "def sigmoid(z):\n",
    "    return 1 / (1 + np.exp(-z))\n",
    "\n",
    "def compute_loss(y, y_pred):\n",
    "    return -np.mean(y * np.log(y_pred) + (1 - y) * np.log(1 - y_pred))\n",
    "\n",
    "def sgd_logistic_regression(X, y, lr=0.01, epochs=1000):\n",
    "    n_samples, n_features = X.shape\n",
    "    weights = np.zeros(n_features)\n",
    "    bias = 0\n",
    "    \n",
    "    for epoch in range(epochs):\n",
    "        for i in range(n_samples):\n",
    "            linear_model = np.dot(X[i], weights) + bias\n",
    "            y_pred = sigmoid(linear_model)\n",
    "            \n",
    "            dw = (y_pred - y[i]) * X[i]\n",
    "            db = y_pred - y[i]\n",
    "            \n",
    "            weights -= lr * dw\n",
    "            bias -= lr * db\n",
    "        \n",
    "        if epoch % 100 == 0:\n",
    "            y_pred_all = sigmoid(np.dot(X, weights) + bias)\n",
    "            loss = compute_loss(y, y_pred_all)\n",
    "            print(f'Epoch {epoch}, Loss: {loss}')\n",
    "    \n",
    "    return weights, bias\n",
    "\n",
    "# Example usage\n",
    "X = np.array([[1, 2], [2, 3], [3, 4], [4, 5]])  # Example features\n",
    "y = np.array([0, 0, 1, 1])  # Example binary labels\n",
    "\n",
    "weights, bias = sgd_logistic_regression(X, y)\n",
    "print(\"Trained weights:\", weights)\n",
    "print(\"Trained bias:\", bias)\n"
   ]
  },
  {
   "cell_type": "markdown",
   "id": "0bcb1e78-70a6-4198-8102-53c704b469fc",
   "metadata": {},
   "source": [
    "# 6. Problem: Write a Python function to perform the backpropagation step for a simple feedforward neural network with one hidden layer."
   ]
  },
  {
   "cell_type": "code",
   "execution_count": 7,
   "id": "482470de-3d69-42ee-9ac0-878c777c1e5a",
   "metadata": {},
   "outputs": [
    {
     "name": "stdout",
     "output_type": "stream",
     "text": [
      "Updated input-hidden weights:\n",
      " [[0.37454169 0.95071799]\n",
      " [0.73199165 0.59866696]]\n",
      "Updated hidden-output weights:\n",
      " [[0.15571812]\n",
      " [0.15570242]]\n",
      "Error:\n",
      " [[-0.53892274]\n",
      " [ 0.44867606]\n",
      " [ 0.4489381 ]\n",
      " [-0.56117033]]\n"
     ]
    }
   ],
   "source": [
    "import numpy as np\n",
    "\n",
    "def sigmoid(z):\n",
    "    return 1 / (1 + np.exp(-z))\n",
    "\n",
    "def sigmoid_derivative(z):\n",
    "    return z * (1 - z)\n",
    "\n",
    "def backpropagation(X, y, weights_input_hidden, weights_hidden_output, learning_rate=0.01):\n",
    "    \n",
    "    hidden_layer_input = np.dot(X, weights_input_hidden)\n",
    "    hidden_layer_output = sigmoid(hidden_layer_input)\n",
    "    \n",
    "    output_layer_input = np.dot(hidden_layer_output, weights_hidden_output)\n",
    "    predicted_output = sigmoid(output_layer_input)\n",
    "\n",
    "   \n",
    "    error_output_layer = y - predicted_output\n",
    "    d_predicted_output = error_output_layer * sigmoid_derivative(predicted_output)\n",
    "    \n",
    "   \n",
    "    error_hidden_layer = d_predicted_output.dot(weights_hidden_output.T)\n",
    "    d_hidden_layer = error_hidden_layer * sigmoid_derivative(hidden_layer_output)\n",
    "    \n",
    "   \n",
    "    weights_hidden_output += hidden_layer_output.T.dot(d_predicted_output) * learning_rate\n",
    "    weights_input_hidden += X.T.dot(d_hidden_layer) * learning_rate\n",
    "    \n",
    "    return weights_input_hidden, weights_hidden_output, error_output_layer\n",
    "\n",
    "\n",
    "X = np.array([[0, 0], [0, 1], [1, 0], [1, 1]])\n",
    "y = np.array([[0], [1], [1], [0]])\n",
    "\n",
    "np.random.seed(42)\n",
    "weights_input_hidden = np.random.rand(2, 2)  \n",
    "weights_hidden_output = np.random.rand(2, 1)  \n",
    "\n",
    "\n",
    "new_weights_input_hidden, new_weights_hidden_output, error = backpropagation(X, y, weights_input_hidden, weights_hidden_output)\n",
    "\n",
    "print(\"Updated input-hidden weights:\\n\", new_weights_input_hidden)\n",
    "print(\"Updated hidden-output weights:\\n\", new_weights_hidden_output)\n",
    "print(\"Error:\\n\", error)\n"
   ]
  },
  {
   "cell_type": "markdown",
   "id": "afb75a6b-d786-47c8-8820-c7407e61cbcc",
   "metadata": {},
   "source": [
    "# 7. Problem: Implement the decision tree algorithm from scratch in Python. Given a dataset build a decision tree based on Gini impurity or entropy."
   ]
  },
  {
   "cell_type": "code",
   "execution_count": 8,
   "id": "df5d99d0-ad35-47e6-a6ee-50780c06d780",
   "metadata": {},
   "outputs": [
    {
     "name": "stdout",
     "output_type": "stream",
     "text": [
      "Predictions: [0 1 0 1 0 1]\n"
     ]
    }
   ],
   "source": [
    "import numpy as np\n",
    "\n",
    "class DecisionTree:\n",
    "    def __init__(self, max_depth=5, min_samples_split=2):\n",
    "        self.max_depth = max_depth\n",
    "        self.min_samples_split = min_samples_split\n",
    "        self.tree = None\n",
    "\n",
    "    def fit(self, X, y):\n",
    "        self.tree = self._build_tree(X, y)\n",
    "\n",
    "    def _build_tree(self, X, y, depth=0):\n",
    "        n_samples, n_features = X.shape\n",
    "        if n_samples >= self.min_samples_split and depth < self.max_depth:\n",
    "            best_split = self._get_best_split(X, y, n_features)\n",
    "            if best_split:\n",
    "                left_subtree = self._build_tree(best_split['X_left'], best_split['y_left'], depth + 1)\n",
    "                right_subtree = self._build_tree(best_split['X_right'], best_split['y_right'], depth + 1)\n",
    "                return {'feature_index': best_split['feature_index'],\n",
    "                        'threshold': best_split['threshold'],\n",
    "                        'left': left_subtree,\n",
    "                        'right': right_subtree}\n",
    "        \n",
    "        leaf_value = self._calculate_leaf_value(y)\n",
    "        return leaf_value\n",
    "\n",
    "    def _get_best_split(self, X, y, n_features):\n",
    "        best_split = {}\n",
    "        best_gini = float('inf')\n",
    "\n",
    "        for feature_index in range(n_features):\n",
    "            feature_values = X[:, feature_index]\n",
    "            possible_thresholds = np.unique(feature_values)\n",
    "            \n",
    "            for threshold in possible_thresholds:\n",
    "                X_left, y_left, X_right, y_right = self._split(X, y, feature_index, threshold)\n",
    "                \n",
    "                if len(y_left) > 0 and len(y_right) > 0:\n",
    "                    gini = self._calculate_gini(y_left, y_right)\n",
    "                    if gini < best_gini:\n",
    "                        best_split = {'feature_index': feature_index,\n",
    "                                      'threshold': threshold,\n",
    "                                      'X_left': X_left, 'y_left': y_left,\n",
    "                                      'X_right': X_right, 'y_right': y_right}\n",
    "                        best_gini = gini\n",
    "\n",
    "        return best_split if best_gini < float('inf') else None\n",
    "\n",
    "    def _split(self, X, y, feature_index, threshold):\n",
    "        X_left = X[X[:, feature_index] <= threshold]\n",
    "        y_left = y[X[:, feature_index] <= threshold]\n",
    "        X_right = X[X[:, feature_index] > threshold]\n",
    "        y_right = y[X[:, feature_index] > threshold]\n",
    "        return X_left, y_left, X_right, y_right\n",
    "\n",
    "    def _calculate_gini(self, y_left, y_right):\n",
    "        n_left = len(y_left)\n",
    "        n_right = len(y_right)\n",
    "        n_total = n_left + n_right\n",
    "\n",
    "        gini_left = 1.0 - sum((np.sum(y_left == c) / n_left) ** 2 for c in np.unique(y_left))\n",
    "        gini_right = 1.0 - sum((np.sum(y_right == c) / n_right) ** 2 for c in np.unique(y_right))\n",
    "\n",
    "        gini = (n_left / n_total) * gini_left + (n_right / n_total) * gini_right\n",
    "        return gini\n",
    "\n",
    "    def _calculate_leaf_value(self, y):\n",
    "        return np.bincount(y).argmax()\n",
    "\n",
    "    def predict(self, X):\n",
    "        return np.array([self._predict_single_input(x, self.tree) for x in X])\n",
    "\n",
    "    def _predict_single_input(self, x, tree):\n",
    "        if isinstance(tree, dict):\n",
    "            feature_value = x[tree['feature_index']]\n",
    "            if feature_value <= tree['threshold']:\n",
    "                return self._predict_single_input(x, tree['left'])\n",
    "            else:\n",
    "                return self._predict_single_input(x, tree['right'])\n",
    "        return tree\n",
    "\n",
    "# Example usage\n",
    "X = np.array([[2.8, 1.0], [1.2, 3.4], [3.6, 1.8], [2.5, 2.5], [1.3, 0.8], [2.0, 3.0]])\n",
    "y = np.array([0, 1, 0, 1, 0, 1])\n",
    "\n",
    "clf = DecisionTree(max_depth=3)\n",
    "clf.fit(X, y)\n",
    "\n",
    "predictions = clf.predict(X)\n",
    "print(\"Predictions:\", predictions)\n"
   ]
  },
  {
   "cell_type": "markdown",
   "id": "0b1b518a-6141-400b-9f82-00f5364a24e3",
   "metadata": {},
   "source": [
    "#  8. Problem: Write a Python function to compute the F1-score given the true labels an predicted labels for a binary classification problem."
   ]
  },
  {
   "cell_type": "code",
   "execution_count": 9,
   "id": "89c398c8-e3a9-4d17-8b81-263fead3f641",
   "metadata": {},
   "outputs": [
    {
     "name": "stdout",
     "output_type": "stream",
     "text": [
      "F1 Score: 0.8000000000000002\n"
     ]
    }
   ],
   "source": [
    "import numpy as np\n",
    "\n",
    "def f1_score(y_true, y_pred):\n",
    "    tp = sum((y_true == 1) & (y_pred == 1))\n",
    "    fp = sum((y_true == 0) & (y_pred == 1))\n",
    "    fn = sum((y_true == 1) & (y_pred == 0))\n",
    "    precision = tp / (tp + fp) if (tp + fp) > 0 else 0\n",
    "    recall = tp / (tp + fn) if (tp + fn) > 0 else 0\n",
    "    if precision + recall == 0:\n",
    "        return 0\n",
    "    f1 = 2 * (precision * recall) / (precision + recall)\n",
    "    return f1\n",
    "\n",
    "y_true = np.array([1, 0, 1, 1, 0, 1, 0, 0, 1, 0])\n",
    "y_pred = np.array([1, 0, 1, 0, 0, 1, 1, 0, 1, 0])\n",
    "\n",
    "f1 = f1_score(y_true, y_pred)\n",
    "print(\"F1 Score:\", f1)\n"
   ]
  },
  {
   "cell_type": "markdown",
   "id": "e638d0e3-6047-461e-9c31-9bd99f29c1a4",
   "metadata": {},
   "source": [
    " # 9. Problem: Implement support vector machine (SVM) classification from scratch, including the hinge loss function and gradient-based optimization."
   ]
  },
  {
   "cell_type": "code",
   "execution_count": 10,
   "id": "bbebdd89-c565-4f10-acd9-6b2060247cd6",
   "metadata": {},
   "outputs": [
    {
     "name": "stdout",
     "output_type": "stream",
     "text": [
      "Predictions: [ 1.  1.  1.  1. -1.  1.]\n"
     ]
    }
   ],
   "source": [
    "import numpy as np\n",
    "\n",
    "class SVM:\n",
    "    def __init__(self, learning_rate=0.001, lambda_param=0.01, n_iters=1000):\n",
    "        self.lr = learning_rate\n",
    "        self.lambda_param = lambda_param\n",
    "        self.n_iters = n_iters\n",
    "        self.w = None\n",
    "        self.b = None\n",
    "\n",
    "    def fit(self, X, y):\n",
    "        n_samples, n_features = X.shape\n",
    "        y_ = np.where(y <= 0, -1, 1)\n",
    "        self.w = np.zeros(n_features)\n",
    "        self.b = 0\n",
    "\n",
    "        for _ in range(self.n_iters):\n",
    "            for idx, x_i in enumerate(X):\n",
    "                condition = y_[idx] * (np.dot(x_i, self.w) - self.b) >= 1\n",
    "                if condition:\n",
    "                    self.w -= self.lr * (2 * self.lambda_param * self.w)\n",
    "                else:\n",
    "                    self.w -= self.lr * (2 * self.lambda_param * self.w - np.dot(x_i, y_[idx]))\n",
    "                    self.b -= self.lr * y_[idx]\n",
    "\n",
    "    def predict(self, X):\n",
    "        linear_output = np.dot(X, self.w) - self.b\n",
    "        return np.sign(linear_output)\n",
    "\n",
    "\n",
    "X = np.array([[1, 2], [2, 3], [3, 4], [4, 5], [1, 0], [0, 1]])\n",
    "y = np.array([1, 1, 1, -1, -1, -1])\n",
    "\n",
    "svm = SVM()\n",
    "svm.fit(X, y)\n",
    "predictions = svm.predict(X)\n",
    "print(\"Predictions:\", predictions)\n"
   ]
  },
  {
   "cell_type": "markdown",
   "id": "84203bc8-3626-4089-9f44-aa6bf2fed4d8",
   "metadata": {},
   "source": [
    "#  10. Problem: Write a Python function to compute the Pearson correlation coefficient between two sets of data."
   ]
  },
  {
   "cell_type": "code",
   "execution_count": 11,
   "id": "ea821d8d-a37f-444e-a9d2-25d4825d43df",
   "metadata": {},
   "outputs": [
    {
     "name": "stdout",
     "output_type": "stream",
     "text": [
      "Pearson Correlation Coefficient: -1.0\n"
     ]
    }
   ],
   "source": [
    "import numpy as np\n",
    "\n",
    "def pearson_correlation(x, y):\n",
    "    mean_x = np.mean(x)\n",
    "    mean_y = np.mean(y)\n",
    "    numerator = np.sum((x - mean_x) * (y - mean_y))\n",
    "    denominator = np.sqrt(np.sum((x - mean_x) ** 2) * np.sum((y - mean_y) ** 2))\n",
    "    if denominator == 0:\n",
    "        return 0\n",
    "    return numerator / denominator\n",
    "\n",
    "# Example usage\n",
    "x = np.array([1, 2, 3, 4, 5])\n",
    "y = np.array([5, 4, 3, 2, 1])\n",
    "\n",
    "correlation = pearson_correlation(x, y)\n",
    "print(\"Pearson Correlation Coefficient:\", correlation)\n"
   ]
  },
  {
   "cell_type": "markdown",
   "id": "275059e6-fa54-400c-beda-ab95ed3632a9",
   "metadata": {},
   "source": [
    " # 11. Problem: Implement the Adagrad optimizer from scratch in Python, and use it to optimize the parameters of a simple linear regression model."
   ]
  },
  {
   "cell_type": "code",
   "execution_count": 12,
   "id": "72d3a439-4db8-41af-930d-e9224af62a10",
   "metadata": {},
   "outputs": [
    {
     "name": "stdout",
     "output_type": "stream",
     "text": [
      "Predictions: [1.13187709 1.75093902 2.26375418 2.88281611]\n"
     ]
    }
   ],
   "source": [
    "import numpy as np\n",
    "\n",
    "class Adagrad:\n",
    "    def __init__(self, learning_rate=0.01, epsilon=1e-8):\n",
    "        self.learning_rate = learning_rate\n",
    "        self.epsilon = epsilon\n",
    "        self.grad_squared = None\n",
    "\n",
    "    def update(self, weights, gradients):\n",
    "        if self.grad_squared is None:\n",
    "            self.grad_squared = np.zeros_like(weights)\n",
    "        self.grad_squared += gradients ** 2\n",
    "        adjusted_grad = gradients / (np.sqrt(self.grad_squared) + self.epsilon)\n",
    "        weights -= self.learning_rate * adjusted_grad\n",
    "        return weights\n",
    "\n",
    "class LinearRegression:\n",
    "    def __init__(self, optimizer):\n",
    "        self.optimizer = optimizer\n",
    "        self.weights = None\n",
    "\n",
    "    def fit(self, X, y, epochs):\n",
    "        n_samples, n_features = X.shape\n",
    "        self.weights = np.zeros(n_features)\n",
    "        \n",
    "        for _ in range(epochs):\n",
    "            y_pred = np.dot(X, self.weights)\n",
    "            gradients = (1 / n_samples) * np.dot(X.T, (y_pred - y))\n",
    "            self.weights = self.optimizer.update(self.weights, gradients)\n",
    "\n",
    "    def predict(self, X):\n",
    "        return np.dot(X, self.weights)\n",
    "\n",
    "# Example usage\n",
    "X = np.array([[1, 1], [1, 2], [2, 2], [2, 3]])\n",
    "y = np.array([1, 2, 2, 3])\n",
    "\n",
    "adagrad_optimizer = Adagrad(learning_rate=0.1)\n",
    "model = LinearRegression(optimizer=adagrad_optimizer)\n",
    "model.fit(X, y, epochs=100)\n",
    "\n",
    "predictions = model.predict(X)\n",
    "print(\"Predictions:\", predictions)\n"
   ]
  },
  {
   "cell_type": "markdown",
   "id": "ca487de2-eec5-46b2-8d62-221e4e733a85",
   "metadata": {},
   "source": [
    "#  12. Problem: Write a Python function to simulate a Markov chain. Given a transition matrix and an initial state, return the state after a certain number of transitions."
   ]
  },
  {
   "cell_type": "code",
   "execution_count": 13,
   "id": "8d428672-86f2-48d1-ba6e-fe7e62bd4924",
   "metadata": {},
   "outputs": [
    {
     "name": "stdout",
     "output_type": "stream",
     "text": [
      "Final State after transitions: 0\n"
     ]
    }
   ],
   "source": [
    "import numpy as np\n",
    "\n",
    "def markov_chain(transition_matrix, initial_state, num_transitions):\n",
    "    state = initial_state\n",
    "    for _ in range(num_transitions):\n",
    "        state = np.random.choice(len(transition_matrix), p=transition_matrix[state])\n",
    "    return state\n",
    "\n",
    "# Example usage\n",
    "transition_matrix = np.array([[0.7, 0.3],\n",
    "                              [0.4, 0.6]])\n",
    "\n",
    "initial_state = 0\n",
    "num_transitions = 5\n",
    "\n",
    "final_state = markov_chain(transition_matrix, initial_state, num_transitions)\n",
    "print(\"Final State after transitions:\", final_state)\n"
   ]
  },
  {
   "cell_type": "markdown",
   "id": "066b624a-8cff-4e48-a85a-a06564911e29",
   "metadata": {},
   "source": [
    "# 13. Problem: Implement the Naive Bayes classifier from scratch for a binary classification problem using Gaussian distributions for continuous features."
   ]
  },
  {
   "cell_type": "code",
   "execution_count": 14,
   "id": "e239390c-990a-49ec-902c-75df04fb2f34",
   "metadata": {},
   "outputs": [
    {
     "name": "stdout",
     "output_type": "stream",
     "text": [
      "Predictions: [0 0 1 1]\n"
     ]
    }
   ],
   "source": [
    "import numpy as np\n",
    "\n",
    "class NaiveBayes:\n",
    "    def __init__(self):\n",
    "        self.mean = {}\n",
    "        self.variance = {}\n",
    "        self.prior = {}\n",
    "\n",
    "    def fit(self, X, y):\n",
    "        self.classes = np.unique(y)\n",
    "        n_features = X.shape[1]\n",
    "\n",
    "        for cls in self.classes:\n",
    "            X_cls = X[y == cls]\n",
    "            self.mean[cls] = X_cls.mean(axis=0)\n",
    "            self.variance[cls] = X_cls.var(axis=0)\n",
    "            self.prior[cls] = len(X_cls) / len(X)\n",
    "\n",
    "    def gaussian(self, x, mean, variance):\n",
    "        exponent = np.exp(-((x - mean) ** 2) / (2 * variance))\n",
    "        return (1 / np.sqrt(2 * np.pi * variance)) * exponent\n",
    "\n",
    "    def predict(self, X):\n",
    "        predictions = []\n",
    "        for x in X:\n",
    "            posteriors = []\n",
    "            for cls in self.classes:\n",
    "                likelihood = np.prod(self.gaussian(x, self.mean[cls], self.variance[cls]))\n",
    "                posterior = likelihood * self.prior[cls]\n",
    "                posteriors.append(posterior)\n",
    "            predictions.append(self.classes[np.argmax(posteriors)])\n",
    "        return np.array(predictions)\n",
    "\n",
    "# Example usage\n",
    "X = np.array([[1.0, 2.0], [1.5, 1.8], [5.0, 8.0], [6.0, 9.0]])\n",
    "y = np.array([0, 0, 1, 1])\n",
    "\n",
    "model = NaiveBayes()\n",
    "model.fit(X, y)\n",
    "predictions = model.predict(X)\n",
    "print(\"Predictions:\", predictions)\n"
   ]
  },
  {
   "cell_type": "markdown",
   "id": "c0314fe3-28cb-4848-a25c-f3b29314871d",
   "metadata": {},
   "source": [
    "#  14. Problem: Write a Python function to compute the Silhouette score for clustering results, which is used to evaluate the quality of clusters."
   ]
  },
  {
   "cell_type": "code",
   "execution_count": 15,
   "id": "c8e06df1-107c-4b1e-b9cb-83a81f3e3d1c",
   "metadata": {},
   "outputs": [
    {
     "name": "stdout",
     "output_type": "stream",
     "text": [
      "Silhouette Score: 0.5247605316537637\n"
     ]
    }
   ],
   "source": [
    "import numpy as np\n",
    "from sklearn.metrics import pairwise_distances\n",
    "\n",
    "def silhouette_score(X, labels):\n",
    "    n_samples = X.shape[0]\n",
    "    distances = pairwise_distances(X)\n",
    "    silhouette_scores = np.zeros(n_samples)\n",
    "\n",
    "    for i in range(n_samples):\n",
    "        same_cluster_mask = (labels == labels[i])\n",
    "        other_cluster_mask = (labels != labels[i])\n",
    "\n",
    "        a = distances[i][same_cluster_mask].mean() if np.sum(same_cluster_mask) > 1 else 0\n",
    "        b = distances[i][other_cluster_mask].mean() if np.sum(other_cluster_mask) > 0 else 0\n",
    "\n",
    "        silhouette_scores[i] = (b - a) / max(a, b) if max(a, b) > 0 else 0\n",
    "\n",
    "    return silhouette_scores.mean()\n",
    "\n",
    "# Example usage\n",
    "X = np.array([[1, 2], [1, 4], [1, 0],\n",
    "              [4, 2], [4, 4], [4, 0]])\n",
    "\n",
    "labels = np.array([0, 0, 0, 1, 1, 1])  # Cluster labels for the data points\n",
    "\n",
    "score = silhouette_score(X, labels)\n",
    "print(\"Silhouette Score:\", score)\n"
   ]
  },
  {
   "cell_type": "markdown",
   "id": "ad09fa46-868d-438a-a92b-2cb9f2dfb26f",
   "metadata": {},
   "source": [
    " # 15. Problem: Implement an autoencoder neural network from scratch using Python. The network should compress and reconstruct input data."
   ]
  },
  {
   "cell_type": "code",
   "execution_count": 16,
   "id": "260914ce-008e-4000-a247-2acc2528a9f6",
   "metadata": {},
   "outputs": [
    {
     "name": "stdout",
     "output_type": "stream",
     "text": [
      "Epoch 0, Loss: 0.2979323419343604\n",
      "Epoch 100, Loss: 0.24002998658177332\n",
      "Epoch 200, Loss: 0.21517385012466375\n",
      "Epoch 300, Loss: 0.16661363624885125\n",
      "Epoch 400, Loss: 0.12371571035365325\n",
      "Epoch 500, Loss: 0.09908799479752183\n",
      "Epoch 600, Loss: 0.08328333514275334\n",
      "Epoch 700, Loss: 0.06803966811147043\n",
      "Epoch 800, Loss: 0.04983353998799465\n",
      "Epoch 900, Loss: 0.033093478138271244\n",
      "Original Data:\n",
      " [[0 0 0]\n",
      " [1 1 1]\n",
      " [0 1 0]\n",
      " [1 0 1]]\n",
      "Reconstructed Data:\n",
      " [[0.07378878 0.28208725 0.07311194]\n",
      " [0.94806152 0.77386915 0.94868751]\n",
      " [0.11975388 0.83565186 0.11422989]\n",
      " [0.91096283 0.20859265 0.91539114]]\n"
     ]
    }
   ],
   "source": [
    "import numpy as np\n",
    "\n",
    "class Autoencoder:\n",
    "    def __init__(self, input_dim, encoding_dim, learning_rate=0.01, epochs=1000):\n",
    "        self.input_dim = input_dim\n",
    "        self.encoding_dim = encoding_dim\n",
    "        self.learning_rate = learning_rate\n",
    "        self.epochs = epochs\n",
    "\n",
    "        self.weights_encoder = np.random.rand(self.input_dim, self.encoding_dim)\n",
    "        self.bias_encoder = np.random.rand(self.encoding_dim)\n",
    "\n",
    "        self.weights_decoder = np.random.rand(self.encoding_dim, self.input_dim)\n",
    "        self.bias_decoder = np.random.rand(self.input_dim)\n",
    "\n",
    "    def encode(self, X):\n",
    "        return self.sigmoid(np.dot(X, self.weights_encoder) + self.bias_encoder)\n",
    "\n",
    "    def decode(self, encoded):\n",
    "        return self.sigmoid(np.dot(encoded, self.weights_decoder) + self.bias_decoder)\n",
    "\n",
    "    def fit(self, X):\n",
    "        for epoch in range(self.epochs):\n",
    "            # Forward pass\n",
    "            encoded = self.encode(X)\n",
    "            reconstructed = self.decode(encoded)\n",
    "\n",
    "            # Compute loss (Mean Squared Error)\n",
    "            loss = np.mean((X - reconstructed) ** 2)\n",
    "\n",
    "            # Backward pass (Gradient Descent)\n",
    "            decoder_loss = reconstructed - X\n",
    "            decoder_grad = np.dot(encoded.T, decoder_loss) / X.shape[0]\n",
    "            self.weights_decoder -= self.learning_rate * decoder_grad\n",
    "            self.bias_decoder -= self.learning_rate * np.mean(decoder_loss, axis=0)\n",
    "\n",
    "            encoder_loss = np.dot(decoder_loss, self.weights_decoder.T) * self.sigmoid_derivative(encoded)\n",
    "            encoder_grad = np.dot(X.T, encoder_loss) / X.shape[0]\n",
    "            self.weights_encoder -= self.learning_rate * encoder_grad\n",
    "            self.bias_encoder -= self.learning_rate * np.mean(encoder_loss, axis=0)\n",
    "\n",
    "            if epoch % 100 == 0:\n",
    "                print(f'Epoch {epoch}, Loss: {loss}')\n",
    "\n",
    "    def predict(self, X):\n",
    "        encoded = self.encode(X)\n",
    "        reconstructed = self.decode(encoded)\n",
    "        return reconstructed\n",
    "\n",
    "    def sigmoid(self, x):\n",
    "        return 1 / (1 + np.exp(-x))\n",
    "\n",
    "    def sigmoid_derivative(self, x):\n",
    "        return x * (1 - x)\n",
    "\n",
    "# Example usage\n",
    "X = np.array([[0, 0, 0], [1, 1, 1], [0, 1, 0], [1, 0, 1]])\n",
    "autoencoder = Autoencoder(input_dim=3, encoding_dim=2, learning_rate=0.1, epochs=1000)\n",
    "autoencoder.fit(X)\n",
    "\n",
    "reconstructed = autoencoder.predict(X)\n",
    "print(\"Original Data:\\n\", X)\n",
    "print(\"Reconstructed Data:\\n\", reconstructed)\n"
   ]
  },
  {
   "cell_type": "markdown",
   "id": "0bd4945a-b2cb-4568-80f3-447fa8c3f20e",
   "metadata": {},
   "source": [
    " # 16. Problem: Write a Python function to perform sentiment analysis on text data by implementing a simple bag-of-words model combined with logistic regression."
   ]
  },
  {
   "cell_type": "code",
   "execution_count": 17,
   "id": "6c54320f-977e-49ed-b7f5-a61976e4b64c",
   "metadata": {},
   "outputs": [
    {
     "name": "stdout",
     "output_type": "stream",
     "text": [
      "Accuracy: 1.0\n",
      "Predictions: [1, 0]\n"
     ]
    }
   ],
   "source": [
    "import numpy as np\n",
    "from collections import Counter\n",
    "from sklearn.model_selection import train_test_split\n",
    "\n",
    "class LogisticRegression:\n",
    "    def __init__(self, learning_rate=0.01, epochs=1000):\n",
    "        self.learning_rate = learning_rate\n",
    "        self.epochs = epochs\n",
    "        self.weights = None\n",
    "\n",
    "    def sigmoid(self, z):\n",
    "        return 1 / (1 + np.exp(-z))\n",
    "\n",
    "    def fit(self, X, y):\n",
    "        n_samples, n_features = X.shape\n",
    "        self.weights = np.zeros(n_features)\n",
    "\n",
    "        for _ in range(self.epochs):\n",
    "            linear_model = np.dot(X, self.weights)\n",
    "            y_predicted = self.sigmoid(linear_model)\n",
    "\n",
    "            # Update weights\n",
    "            dw = (1 / n_samples) * np.dot(X.T, (y_predicted - y))\n",
    "            self.weights -= self.learning_rate * dw\n",
    "\n",
    "    def predict(self, X):\n",
    "        linear_model = np.dot(X, self.weights)\n",
    "        y_predicted = self.sigmoid(linear_model)\n",
    "        return [1 if i > 0.5 else 0 for i in y_predicted]\n",
    "\n",
    "def bag_of_words(texts):\n",
    "    words = []\n",
    "    for text in texts:\n",
    "        words.extend(text.split())\n",
    "    word_counts = Counter(words)\n",
    "    return list(word_counts.keys())\n",
    "\n",
    "def create_bow_matrix(texts, vocab):\n",
    "    bow_matrix = np.zeros((len(texts), len(vocab)))\n",
    "    for i, text in enumerate(texts):\n",
    "        for word in text.split():\n",
    "            if word in vocab:\n",
    "                bow_matrix[i, vocab.index(word)] += 1\n",
    "    return bow_matrix\n",
    "\n",
    "def sentiment_analysis(texts, labels):\n",
    "    vocab = bag_of_words(texts)\n",
    "    X = create_bow_matrix(texts, vocab)\n",
    "    y = np.array(labels)\n",
    "\n",
    "    X_train, X_test, y_train, y_test = train_test_split(X, y, test_size=0.2, random_state=42)\n",
    "\n",
    "    model = LogisticRegression(learning_rate=0.1, epochs=1000)\n",
    "    model.fit(X_train, y_train)\n",
    "    predictions = model.predict(X_test)\n",
    "\n",
    "    accuracy = np.mean(predictions == y_test)\n",
    "    return accuracy, predictions\n",
    "\n",
    "# Example usage\n",
    "texts = [\n",
    "    \"I love this movie\",\n",
    "    \"This film was terrible\",\n",
    "    \"I enjoyed the plot\",\n",
    "    \"It was a waste of time\",\n",
    "    \"Amazing performance by the actors\",\n",
    "    \"Not my cup of tea\"\n",
    "]\n",
    "labels = [1, 0, 1, 0, 1, 0]  # 1: Positive, 0: Negative\n",
    "\n",
    "accuracy, predictions = sentiment_analysis(texts, labels)\n",
    "print(\"Accuracy:\", accuracy)\n",
    "print(\"Predictions:\", predictions)\n"
   ]
  },
  {
   "cell_type": "markdown",
   "id": "dd2ae7e2-4450-4223-b0b2-218390a2240a",
   "metadata": {},
   "source": [
    "# 17. Problem: Implement a Python function to calculate the Matthews correlation coefficient (MCC) for evaluating binary classifiers."
   ]
  },
  {
   "cell_type": "code",
   "execution_count": 18,
   "id": "82de529a-e563-46b6-9d34-dfe9c6aa68b7",
   "metadata": {},
   "outputs": [
    {
     "name": "stdout",
     "output_type": "stream",
     "text": [
      "Matthews Correlation Coefficient (MCC): 0.6\n"
     ]
    }
   ],
   "source": [
    "import numpy as np\n",
    "\n",
    "def matthews_correlation_coefficient(y_true, y_pred):\n",
    "    tp = np.sum((y_true == 1) & (y_pred == 1))\n",
    "    tn = np.sum((y_true == 0) & (y_pred == 0))\n",
    "    fp = np.sum((y_true == 0) & (y_pred == 1))\n",
    "    fn = np.sum((y_true == 1) & (y_pred == 0))\n",
    "    \n",
    "    numerator = (tp * tn) - (fp * fn)\n",
    "    denominator = np.sqrt((tp + fp) * (tp + fn) * (tn + fp) * (tn + fn))\n",
    "    \n",
    "    if denominator == 0:\n",
    "        return 0\n",
    "    return numerator / denominator\n",
    "\n",
    "# Example usage\n",
    "y_true = np.array([1, 0, 1, 1, 0, 1, 0, 0, 1, 0])\n",
    "y_pred = np.array([1, 0, 1, 0, 0, 1, 1, 0, 1, 0])\n",
    "\n",
    "mcc = matthews_correlation_coefficient(y_true, y_pred)\n",
    "print(\"Matthews Correlation Coefficient (MCC):\", mcc)\n"
   ]
  },
  {
   "cell_type": "markdown",
   "id": "19efd676-b4d2-4d36-970d-0e307a637a69",
   "metadata": {},
   "source": [
    "# 18. Problem: Write a Python function to perform the hierarchical clustering algorithm on a dataset, and return a dendrogram representing the clusters."
   ]
  },
  {
   "cell_type": "code",
   "execution_count": 20,
   "id": "cb365858-d307-490a-b782-79f52942df00",
   "metadata": {},
   "outputs": [
    {
     "data": {
      "image/png": "[encoded data removed]",
      "text/plain": [
       "<Figure size 1000x700 with 1 Axes>"
      ]
     },
     "metadata": {},
     "output_type": "display_data"
    }
   ],
   "source": [
    "import numpy as np\n",
    "import matplotlib.pyplot as plt\n",
    "from scipy.cluster.hierarchy import dendrogram, linkage\n",
    "\n",
    "def hierarchical_clustering(data):\n",
    "    linked = linkage(data, method='ward')\n",
    "    plt.figure(figsize=(10, 7))\n",
    "    dendrogram(linked, orientation='top', distance_sort='descending', show_leaf_counts=True)\n",
    "    plt.title('Hierarchical Clustering Dendrogram')\n",
    "    plt.xlabel('Sample Index')\n",
    "    plt.ylabel('Distance')\n",
    "    plt.show()\n",
    "\n",
    "\n",
    "data = np.array([[1, 2], [1, 4], [1, 0],\n",
    "                 [4, 2], [4, 4], [4, 0]])\n",
    "\n",
    "hierarchical_clustering(data)\n"
   ]
  },
  {
   "cell_type": "markdown",
   "id": "7c29ae0c-c8fe-4f81-bc77-7ad515f8fe1d",
   "metadata": {},
   "source": [
    " # 19. Problem: Implement a function to generate synthetic images using a generative\n",
    " adversarial network (GAN). The function should use random noise as input and return\n",
    " generated images."
   ]
  },
  {
   "cell_type": "code",
   "execution_count": 1,
   "id": "643c422a-c7c0-43f4-8f8c-836a3e17fe9b",
   "metadata": {},
   "outputs": [
    {
     "name": "stderr",
     "output_type": "stream",
     "text": [
      "C:\\Users\\creva\\AppData\\Local\\Programs\\Python\\Python312\\Lib\\site-packages\\keras\\src\\layers\\core\\dense.py:87: UserWarning: Do not pass an `input_shape`/`input_dim` argument to a layer. When using Sequential models, prefer using an `Input(shape)` object as the first layer in the model instead.\n",
      "  super().__init__(activity_regularizer=activity_regularizer, **kwargs)\n",
      "C:\\Users\\creva\\AppData\\Local\\Programs\\Python\\Python312\\Lib\\site-packages\\keras\\src\\layers\\reshaping\\flatten.py:37: UserWarning: Do not pass an `input_shape`/`input_dim` argument to a layer. When using Sequential models, prefer using an `Input(shape)` object as the first layer in the model instead.\n",
      "  super().__init__(**kwargs)\n"
     ]
    },
    {
     "name": "stdout",
     "output_type": "stream",
     "text": [
      "\u001b[1m2/2\u001b[0m \u001b[32m━━━━━━━━━━━━━━━━━━━━\u001b[0m\u001b[37m\u001b[0m \u001b[1m0s\u001b[0m 5ms/step  \n"
     ]
    },
    {
     "name": "stderr",
     "output_type": "stream",
     "text": [
      "C:\\Users\\creva\\AppData\\Local\\Programs\\Python\\Python312\\Lib\\site-packages\\keras\\src\\backend\\tensorflow\\trainer.py:75: UserWarning: The model does not have any trainable weights.\n",
      "  warnings.warn(\"The model does not have any trainable weights.\")\n"
     ]
    },
    {
     "name": "stdout",
     "output_type": "stream",
     "text": [
      "Epoch: 0, Discriminator Loss: 0.7099137306213379, Generator Loss: [array(0.79880035, dtype=float32), array(0.79880035, dtype=float32), array(0.3125, dtype=float32)]\n",
      "\u001b[1m2/2\u001b[0m \u001b[32m━━━━━━━━━━━━━━━━━━━━\u001b[0m\u001b[37m\u001b[0m \u001b[1m0s\u001b[0m 4ms/step \n",
      "WARNING:tensorflow:5 out of the last 5 calls to <function TensorFlowTrainer.make_train_function.<locals>.one_step_on_iterator at 0x000001F37A296AC0> triggered tf.function retracing. Tracing is expensive and the excessive number of tracings could be due to (1) creating @tf.function repeatedly in a loop, (2) passing tensors with different shapes, (3) passing Python objects instead of tensors. For (1), please define your @tf.function outside of the loop. For (2), @tf.function has reduce_retracing=True option that can avoid unnecessary retracing. For (3), please refer to https://www.tensorflow.org/guide/function#controlling_retracing and https://www.tensorflow.org/api_docs/python/tf/function for  more details.\n",
      "WARNING:tensorflow:6 out of the last 6 calls to <function TensorFlowTrainer.make_train_function.<locals>.one_step_on_iterator at 0x000001F30122E5C0> triggered tf.function retracing. Tracing is expensive and the excessive number of tracings could be due to (1) creating @tf.function repeatedly in a loop, (2) passing tensors with different shapes, (3) passing Python objects instead of tensors. For (1), please define your @tf.function outside of the loop. For (2), @tf.function has reduce_retracing=True option that can avoid unnecessary retracing. For (3), please refer to https://www.tensorflow.org/guide/function#controlling_retracing and https://www.tensorflow.org/api_docs/python/tf/function for  more details.\n",
      "\u001b[1m2/2\u001b[0m \u001b[32m━━━━━━━━━━━━━━━━━━━━\u001b[0m\u001b[37m\u001b[0m \u001b[1m0s\u001b[0m 5ms/step \n",
      "\u001b[1m2/2\u001b[0m \u001b[32m━━━━━━━━━━━━━━━━━━━━\u001b[0m\u001b[37m\u001b[0m \u001b[1m0s\u001b[0m 4ms/step \n",
      "\u001b[1m2/2\u001b[0m \u001b[32m━━━━━━━━━━━━━━━━━━━━\u001b[0m\u001b[37m\u001b[0m \u001b[1m0s\u001b[0m 5ms/step \n",
      "\u001b[1m2/2\u001b[0m \u001b[32m━━━━━━━━━━━━━━━━━━━━\u001b[0m\u001b[37m\u001b[0m \u001b[1m0s\u001b[0m 8ms/step \n",
      "\u001b[1m2/2\u001b[0m \u001b[32m━━━━━━━━━━━━━━━━━━━━\u001b[0m\u001b[37m\u001b[0m \u001b[1m0s\u001b[0m 3ms/step \n",
      "\u001b[1m2/2\u001b[0m \u001b[32m━━━━━━━━━━━━━━━━━━━━\u001b[0m\u001b[37m\u001b[0m \u001b[1m0s\u001b[0m 4ms/step \n",
      "\u001b[1m2/2\u001b[0m \u001b[32m━━━━━━━━━━━━━━━━━━━━\u001b[0m\u001b[37m\u001b[0m \u001b[1m0s\u001b[0m 4ms/step \n",
      "\u001b[1m2/2\u001b[0m \u001b[32m━━━━━━━━━━━━━━━━━━━━\u001b[0m\u001b[37m\u001b[0m \u001b[1m0s\u001b[0m 3ms/step \n",
      "\u001b[1m2/2\u001b[0m \u001b[32m━━━━━━━━━━━━━━━━━━━━\u001b[0m\u001b[37m\u001b[0m \u001b[1m0s\u001b[0m 4ms/step \n",
      "\u001b[1m2/2\u001b[0m \u001b[32m━━━━━━━━━━━━━━━━━━━━\u001b[0m\u001b[37m\u001b[0m \u001b[1m0s\u001b[0m 4ms/step \n",
      "\u001b[1m2/2\u001b[0m \u001b[32m━━━━━━━━━━━━━━━━━━━━\u001b[0m\u001b[37m\u001b[0m \u001b[1m0s\u001b[0m 2ms/step \n",
      "\u001b[1m2/2\u001b[0m \u001b[32m━━━━━━━━━━━━━━━━━━━━\u001b[0m\u001b[37m\u001b[0m \u001b[1m0s\u001b[0m 3ms/step \n",
      "\u001b[1m2/2\u001b[0m \u001b[32m━━━━━━━━━━━━━━━━━━━━\u001b[0m\u001b[37m\u001b[0m \u001b[1m0s\u001b[0m 5ms/step \n",
      "\u001b[1m2/2\u001b[0m \u001b[32m━━━━━━━━━━━━━━━━━━━━\u001b[0m\u001b[37m\u001b[0m \u001b[1m0s\u001b[0m 5ms/step \n",
      "\u001b[1m2/2\u001b[0m \u001b[32m━━━━━━━━━━━━━━━━━━━━\u001b[0m\u001b[37m\u001b[0m \u001b[1m0s\u001b[0m 4ms/step \n",
      "\u001b[1m2/2\u001b[0m \u001b[32m━━━━━━━━━━━━━━━━━━━━\u001b[0m\u001b[37m\u001b[0m \u001b[1m0s\u001b[0m 4ms/step \n",
      "\u001b[1m2/2\u001b[0m \u001b[32m━━━━━━━━━━━━━━━━━━━━\u001b[0m\u001b[37m\u001b[0m \u001b[1m0s\u001b[0m 3ms/step \n",
      "\u001b[1m2/2\u001b[0m \u001b[32m━━━━━━━━━━━━━━━━━━━━\u001b[0m\u001b[37m\u001b[0m \u001b[1m0s\u001b[0m 4ms/step \n",
      "\u001b[1m2/2\u001b[0m \u001b[32m━━━━━━━━━━━━━━━━━━━━\u001b[0m\u001b[37m\u001b[0m \u001b[1m0s\u001b[0m 3ms/step \n",
      "\u001b[1m2/2\u001b[0m \u001b[32m━━━━━━━━━━━━━━━━━━━━\u001b[0m\u001b[37m\u001b[0m \u001b[1m0s\u001b[0m 3ms/step \n",
      "\u001b[1m2/2\u001b[0m \u001b[32m━━━━━━━━━━━━━━━━━━━━\u001b[0m\u001b[37m\u001b[0m \u001b[1m0s\u001b[0m 4ms/step \n",
      "\u001b[1m2/2\u001b[0m \u001b[32m━━━━━━━━━━━━━━━━━━━━\u001b[0m\u001b[37m\u001b[0m \u001b[1m0s\u001b[0m 5ms/step \n",
      "\u001b[1m2/2\u001b[0m \u001b[32m━━━━━━━━━━━━━━━━━━━━\u001b[0m\u001b[37m\u001b[0m \u001b[1m0s\u001b[0m 4ms/step \n",
      "\u001b[1m2/2\u001b[0m \u001b[32m━━━━━━━━━━━━━━━━━━━━\u001b[0m\u001b[37m\u001b[0m \u001b[1m0s\u001b[0m 3ms/step \n",
      "\u001b[1m2/2\u001b[0m \u001b[32m━━━━━━━━━━━━━━━━━━━━\u001b[0m\u001b[37m\u001b[0m \u001b[1m0s\u001b[0m 3ms/step \n",
      "\u001b[1m2/2\u001b[0m \u001b[32m━━━━━━━━━━━━━━━━━━━━\u001b[0m\u001b[37m\u001b[0m \u001b[1m0s\u001b[0m 5ms/step \n",
      "\u001b[1m2/2\u001b[0m \u001b[32m━━━━━━━━━━━━━━━━━━━━\u001b[0m\u001b[37m\u001b[0m \u001b[1m0s\u001b[0m 4ms/step \n",
      "\u001b[1m2/2\u001b[0m \u001b[32m━━━━━━━━━━━━━━━━━━━━\u001b[0m\u001b[37m\u001b[0m \u001b[1m0s\u001b[0m 4ms/step \n",
      "\u001b[1m2/2\u001b[0m \u001b[32m━━━━━━━━━━━━━━━━━━━━\u001b[0m\u001b[37m\u001b[0m \u001b[1m0s\u001b[0m 3ms/step \n",
      "\u001b[1m2/2\u001b[0m \u001b[32m━━━━━━━━━━━━━━━━━━━━\u001b[0m\u001b[37m\u001b[0m \u001b[1m0s\u001b[0m 6ms/step \n",
      "\u001b[1m2/2\u001b[0m \u001b[32m━━━━━━━━━━━━━━━━━━━━\u001b[0m\u001b[37m\u001b[0m \u001b[1m0s\u001b[0m 4ms/step \n",
      "\u001b[1m2/2\u001b[0m \u001b[32m━━━━━━━━━━━━━━━━━━━━\u001b[0m\u001b[37m\u001b[0m \u001b[1m0s\u001b[0m 3ms/step \n",
      "\u001b[1m2/2\u001b[0m \u001b[32m━━━━━━━━━━━━━━━━━━━━\u001b[0m\u001b[37m\u001b[0m \u001b[1m0s\u001b[0m 3ms/step \n",
      "\u001b[1m2/2\u001b[0m \u001b[32m━━━━━━━━━━━━━━━━━━━━\u001b[0m\u001b[37m\u001b[0m \u001b[1m0s\u001b[0m 3ms/step \n",
      "\u001b[1m2/2\u001b[0m \u001b[32m━━━━━━━━━━━━━━━━━━━━\u001b[0m\u001b[37m\u001b[0m \u001b[1m0s\u001b[0m 3ms/step \n",
      "\u001b[1m2/2\u001b[0m \u001b[32m━━━━━━━━━━━━━━━━━━━━\u001b[0m\u001b[37m\u001b[0m \u001b[1m0s\u001b[0m 3ms/step \n",
      "\u001b[1m2/2\u001b[0m \u001b[32m━━━━━━━━━━━━━━━━━━━━\u001b[0m\u001b[37m\u001b[0m \u001b[1m0s\u001b[0m 4ms/step \n",
      "\u001b[1m2/2\u001b[0m \u001b[32m━━━━━━━━━━━━━━━━━━━━\u001b[0m\u001b[37m\u001b[0m \u001b[1m0s\u001b[0m 3ms/step \n",
      "\u001b[1m2/2\u001b[0m \u001b[32m━━━━━━━━━━━━━━━━━━━━\u001b[0m\u001b[37m\u001b[0m \u001b[1m0s\u001b[0m 4ms/step \n",
      "\u001b[1m2/2\u001b[0m \u001b[32m━━━━━━━━━━━━━━━━━━━━\u001b[0m\u001b[37m\u001b[0m \u001b[1m0s\u001b[0m 4ms/step \n",
      "\u001b[1m2/2\u001b[0m \u001b[32m━━━━━━━━━━━━━━━━━━━━\u001b[0m\u001b[37m\u001b[0m \u001b[1m0s\u001b[0m 3ms/step \n",
      "\u001b[1m2/2\u001b[0m \u001b[32m━━━━━━━━━━━━━━━━━━━━\u001b[0m\u001b[37m\u001b[0m \u001b[1m0s\u001b[0m 3ms/step \n",
      "\u001b[1m2/2\u001b[0m \u001b[32m━━━━━━━━━━━━━━━━━━━━\u001b[0m\u001b[37m\u001b[0m \u001b[1m0s\u001b[0m 5ms/step \n",
      "\u001b[1m2/2\u001b[0m \u001b[32m━━━━━━━━━━━━━━━━━━━━\u001b[0m\u001b[37m\u001b[0m \u001b[1m0s\u001b[0m 2ms/step \n",
      "\u001b[1m2/2\u001b[0m \u001b[32m━━━━━━━━━━━━━━━━━━━━\u001b[0m\u001b[37m\u001b[0m \u001b[1m0s\u001b[0m 3ms/step \n",
      "\u001b[1m2/2\u001b[0m \u001b[32m━━━━━━━━━━━━━━━━━━━━\u001b[0m\u001b[37m\u001b[0m \u001b[1m0s\u001b[0m 6ms/step \n",
      "\u001b[1m2/2\u001b[0m \u001b[32m━━━━━━━━━━━━━━━━━━━━\u001b[0m\u001b[37m\u001b[0m \u001b[1m0s\u001b[0m 4ms/step \n",
      "\u001b[1m2/2\u001b[0m \u001b[32m━━━━━━━━━━━━━━━━━━━━\u001b[0m\u001b[37m\u001b[0m \u001b[1m0s\u001b[0m 4ms/step \n",
      "\u001b[1m2/2\u001b[0m \u001b[32m━━━━━━━━━━━━━━━━━━━━\u001b[0m\u001b[37m\u001b[0m \u001b[1m0s\u001b[0m 3ms/step \n",
      "\u001b[1m2/2\u001b[0m \u001b[32m━━━━━━━━━━━━━━━━━━━━\u001b[0m\u001b[37m\u001b[0m \u001b[1m0s\u001b[0m 4ms/step \n",
      "\u001b[1m2/2\u001b[0m \u001b[32m━━━━━━━━━━━━━━━━━━━━\u001b[0m\u001b[37m\u001b[0m \u001b[1m0s\u001b[0m 5ms/step \n",
      "\u001b[1m2/2\u001b[0m \u001b[32m━━━━━━━━━━━━━━━━━━━━\u001b[0m\u001b[37m\u001b[0m \u001b[1m0s\u001b[0m 3ms/step \n",
      "\u001b[1m2/2\u001b[0m \u001b[32m━━━━━━━━━━━━━━━━━━━━\u001b[0m\u001b[37m\u001b[0m \u001b[1m0s\u001b[0m 2ms/step \n",
      "\u001b[1m2/2\u001b[0m \u001b[32m━━━━━━━━━━━━━━━━━━━━\u001b[0m\u001b[37m\u001b[0m \u001b[1m0s\u001b[0m 3ms/step \n",
      "\u001b[1m2/2\u001b[0m \u001b[32m━━━━━━━━━━━━━━━━━━━━\u001b[0m\u001b[37m\u001b[0m \u001b[1m0s\u001b[0m 4ms/step \n",
      "\u001b[1m2/2\u001b[0m \u001b[32m━━━━━━━━━━━━━━━━━━━━\u001b[0m\u001b[37m\u001b[0m \u001b[1m0s\u001b[0m 3ms/step \n",
      "\u001b[1m2/2\u001b[0m \u001b[32m━━━━━━━━━━━━━━━━━━━━\u001b[0m\u001b[37m\u001b[0m \u001b[1m0s\u001b[0m 3ms/step \n",
      "\u001b[1m2/2\u001b[0m \u001b[32m━━━━━━━━━━━━━━━━━━━━\u001b[0m\u001b[37m\u001b[0m \u001b[1m0s\u001b[0m 4ms/step \n",
      "\u001b[1m2/2\u001b[0m \u001b[32m━━━━━━━━━━━━━━━━━━━━\u001b[0m\u001b[37m\u001b[0m \u001b[1m0s\u001b[0m 4ms/step \n",
      "\u001b[1m2/2\u001b[0m \u001b[32m━━━━━━━━━━━━━━━━━━━━\u001b[0m\u001b[37m\u001b[0m \u001b[1m0s\u001b[0m 3ms/step \n",
      "\u001b[1m2/2\u001b[0m \u001b[32m━━━━━━━━━━━━━━━━━━━━\u001b[0m\u001b[37m\u001b[0m \u001b[1m0s\u001b[0m 5ms/step \n",
      "\u001b[1m2/2\u001b[0m \u001b[32m━━━━━━━━━━━━━━━━━━━━\u001b[0m\u001b[37m\u001b[0m \u001b[1m0s\u001b[0m 5ms/step \n",
      "\u001b[1m2/2\u001b[0m \u001b[32m━━━━━━━━━━━━━━━━━━━━\u001b[0m\u001b[37m\u001b[0m \u001b[1m0s\u001b[0m 5ms/step \n",
      "\u001b[1m2/2\u001b[0m \u001b[32m━━━━━━━━━━━━━━━━━━━━\u001b[0m\u001b[37m\u001b[0m \u001b[1m0s\u001b[0m 7ms/step \n",
      "\u001b[1m2/2\u001b[0m \u001b[32m━━━━━━━━━━━━━━━━━━━━\u001b[0m\u001b[37m\u001b[0m \u001b[1m0s\u001b[0m 3ms/step \n",
      "\u001b[1m2/2\u001b[0m \u001b[32m━━━━━━━━━━━━━━━━━━━━\u001b[0m\u001b[37m\u001b[0m \u001b[1m0s\u001b[0m 4ms/step \n",
      "\u001b[1m2/2\u001b[0m \u001b[32m━━━━━━━━━━━━━━━━━━━━\u001b[0m\u001b[37m\u001b[0m \u001b[1m0s\u001b[0m 3ms/step \n",
      "\u001b[1m2/2\u001b[0m \u001b[32m━━━━━━━━━━━━━━━━━━━━\u001b[0m\u001b[37m\u001b[0m \u001b[1m0s\u001b[0m 4ms/step \n",
      "\u001b[1m2/2\u001b[0m \u001b[32m━━━━━━━━━━━━━━━━━━━━\u001b[0m\u001b[37m\u001b[0m \u001b[1m0s\u001b[0m 3ms/step \n",
      "\u001b[1m2/2\u001b[0m \u001b[32m━━━━━━━━━━━━━━━━━━━━\u001b[0m\u001b[37m\u001b[0m \u001b[1m0s\u001b[0m 3ms/step \n",
      "\u001b[1m2/2\u001b[0m \u001b[32m━━━━━━━━━━━━━━━━━━━━\u001b[0m\u001b[37m\u001b[0m \u001b[1m0s\u001b[0m 5ms/step \n",
      "\u001b[1m2/2\u001b[0m \u001b[32m━━━━━━━━━━━━━━━━━━━━\u001b[0m\u001b[37m\u001b[0m \u001b[1m0s\u001b[0m 5ms/step \n",
      "\u001b[1m2/2\u001b[0m \u001b[32m━━━━━━━━━━━━━━━━━━━━\u001b[0m\u001b[37m\u001b[0m \u001b[1m0s\u001b[0m 3ms/step \n",
      "\u001b[1m2/2\u001b[0m \u001b[32m━━━━━━━━━━━━━━━━━━━━\u001b[0m\u001b[37m\u001b[0m \u001b[1m0s\u001b[0m 4ms/step \n",
      "\u001b[1m2/2\u001b[0m \u001b[32m━━━━━━━━━━━━━━━━━━━━\u001b[0m\u001b[37m\u001b[0m \u001b[1m0s\u001b[0m 4ms/step \n",
      "\u001b[1m2/2\u001b[0m \u001b[32m━━━━━━━━━━━━━━━━━━━━\u001b[0m\u001b[37m\u001b[0m \u001b[1m0s\u001b[0m 5ms/step \n",
      "\u001b[1m2/2\u001b[0m \u001b[32m━━━━━━━━━━━━━━━━━━━━\u001b[0m\u001b[37m\u001b[0m \u001b[1m0s\u001b[0m 3ms/step \n",
      "\u001b[1m2/2\u001b[0m \u001b[32m━━━━━━━━━━━━━━━━━━━━\u001b[0m\u001b[37m\u001b[0m \u001b[1m0s\u001b[0m 3ms/step \n",
      "\u001b[1m2/2\u001b[0m \u001b[32m━━━━━━━━━━━━━━━━━━━━\u001b[0m\u001b[37m\u001b[0m \u001b[1m0s\u001b[0m 3ms/step \n",
      "\u001b[1m2/2\u001b[0m \u001b[32m━━━━━━━━━━━━━━━━━━━━\u001b[0m\u001b[37m\u001b[0m \u001b[1m0s\u001b[0m 5ms/step \n",
      "\u001b[1m2/2\u001b[0m \u001b[32m━━━━━━━━━━━━━━━━━━━━\u001b[0m\u001b[37m\u001b[0m \u001b[1m0s\u001b[0m 4ms/step \n",
      "\u001b[1m2/2\u001b[0m \u001b[32m━━━━━━━━━━━━━━━━━━━━\u001b[0m\u001b[37m\u001b[0m \u001b[1m0s\u001b[0m 4ms/step \n",
      "\u001b[1m2/2\u001b[0m \u001b[32m━━━━━━━━━━━━━━━━━━━━\u001b[0m\u001b[37m\u001b[0m \u001b[1m0s\u001b[0m 2ms/step \n",
      "\u001b[1m2/2\u001b[0m \u001b[32m━━━━━━━━━━━━━━━━━━━━\u001b[0m\u001b[37m\u001b[0m \u001b[1m0s\u001b[0m 4ms/step \n",
      "\u001b[1m2/2\u001b[0m \u001b[32m━━━━━━━━━━━━━━━━━━━━\u001b[0m\u001b[37m\u001b[0m \u001b[1m0s\u001b[0m 5ms/step \n",
      "\u001b[1m2/2\u001b[0m \u001b[32m━━━━━━━━━━━━━━━━━━━━\u001b[0m\u001b[37m\u001b[0m \u001b[1m0s\u001b[0m 5ms/step \n",
      "\u001b[1m2/2\u001b[0m \u001b[32m━━━━━━━━━━━━━━━━━━━━\u001b[0m\u001b[37m\u001b[0m \u001b[1m0s\u001b[0m 3ms/step \n",
      "\u001b[1m2/2\u001b[0m \u001b[32m━━━━━━━━━━━━━━━━━━━━\u001b[0m\u001b[37m\u001b[0m \u001b[1m0s\u001b[0m 2ms/step \n",
      "\u001b[1m2/2\u001b[0m \u001b[32m━━━━━━━━━━━━━━━━━━━━\u001b[0m\u001b[37m\u001b[0m \u001b[1m0s\u001b[0m 5ms/step \n",
      "\u001b[1m2/2\u001b[0m \u001b[32m━━━━━━━━━━━━━━━━━━━━\u001b[0m\u001b[37m\u001b[0m \u001b[1m0s\u001b[0m 3ms/step \n",
      "\u001b[1m2/2\u001b[0m \u001b[32m━━━━━━━━━━━━━━━━━━━━\u001b[0m\u001b[37m\u001b[0m \u001b[1m0s\u001b[0m 3ms/step \n",
      "\u001b[1m2/2\u001b[0m \u001b[32m━━━━━━━━━━━━━━━━━━━━\u001b[0m\u001b[37m\u001b[0m \u001b[1m0s\u001b[0m 2ms/step \n",
      "\u001b[1m2/2\u001b[0m \u001b[32m━━━━━━━━━━━━━━━━━━━━\u001b[0m\u001b[37m\u001b[0m \u001b[1m0s\u001b[0m 3ms/step \n",
      "\u001b[1m2/2\u001b[0m \u001b[32m━━━━━━━━━━━━━━━━━━━━\u001b[0m\u001b[37m\u001b[0m \u001b[1m0s\u001b[0m 4ms/step \n",
      "\u001b[1m2/2\u001b[0m \u001b[32m━━━━━━━━━━━━━━━━━━━━\u001b[0m\u001b[37m\u001b[0m \u001b[1m0s\u001b[0m 2ms/step \n",
      "\u001b[1m2/2\u001b[0m \u001b[32m━━━━━━━━━━━━━━━━━━━━\u001b[0m\u001b[37m\u001b[0m \u001b[1m0s\u001b[0m 6ms/step \n",
      "\u001b[1m2/2\u001b[0m \u001b[32m━━━━━━━━━━━━━━━━━━━━\u001b[0m\u001b[37m\u001b[0m \u001b[1m0s\u001b[0m 4ms/step \n",
      "\u001b[1m2/2\u001b[0m \u001b[32m━━━━━━━━━━━━━━━━━━━━\u001b[0m\u001b[37m\u001b[0m \u001b[1m0s\u001b[0m 4ms/step \n",
      "\u001b[1m1/1\u001b[0m \u001b[32m━━━━━━━━━━━━━━━━━━━━\u001b[0m\u001b[37m\u001b[0m \u001b[1m0s\u001b[0m 95ms/step\n"
     ]
    },
    {
     "data": {
      "image/png": "[encoded data removed]",
      "text/plain": [
       "<Figure size 1000x1000 with 10 Axes>"
      ]
     },
     "metadata": {},
     "output_type": "display_data"
    }
   ],
   "source": [
    "import numpy as np\n",
    "import matplotlib.pyplot as plt\n",
    "from tensorflow import keras\n",
    "from tensorflow.keras import layers\n",
    "\n",
    "def build_generator(latent_dim):\n",
    "    model = keras.Sequential([\n",
    "        layers.Dense(128, activation='relu', input_dim=latent_dim),\n",
    "        layers.Dense(784, activation='sigmoid'),\n",
    "        layers.Reshape((28, 28))\n",
    "    ])\n",
    "    return model\n",
    "\n",
    "def build_discriminator():\n",
    "    model = keras.Sequential([\n",
    "        layers.Flatten(input_shape=(28, 28)),\n",
    "        layers.Dense(128, activation='relu'),\n",
    "        layers.Dense(1, activation='sigmoid')\n",
    "    ])\n",
    "    return model\n",
    "\n",
    "def train_gan(epochs, batch_size, latent_dim):\n",
    "    # Load and preprocess the MNIST dataset\n",
    "    (X_train, _), (_, _) = keras.datasets.mnist.load_data()\n",
    "    X_train = X_train.astype(np.float32) / 255.0\n",
    "\n",
    "    generator = build_generator(latent_dim)\n",
    "    discriminator = build_discriminator()\n",
    "\n",
    "    discriminator.compile(loss='binary_crossentropy', optimizer='adam', metrics=['accuracy'])\n",
    "\n",
    "    discriminator.trainable = False\n",
    "    gan_input = layers.Input(shape=(latent_dim,))\n",
    "    generated_image = generator(gan_input)\n",
    "    gan_output = discriminator(generated_image)\n",
    "    gan = keras.Model(gan_input, gan_output)\n",
    "    gan.compile(loss='binary_crossentropy', optimizer='adam')\n",
    "\n",
    "    for epoch in range(epochs):\n",
    "        # Train the discriminator\n",
    "        idx = np.random.randint(0, X_train.shape[0], batch_size)\n",
    "        real_images = X_train[idx]\n",
    "\n",
    "        noise = np.random.normal(0, 1, (batch_size, latent_dim))\n",
    "        generated_images = generator.predict(noise)\n",
    "\n",
    "        d_loss_real = discriminator.train_on_batch(real_images, np.ones((batch_size, 1)))\n",
    "        d_loss_fake = discriminator.train_on_batch(generated_images, np.zeros((batch_size, 1)))\n",
    "        d_loss = 0.5 * np.add(d_loss_real, d_loss_fake)\n",
    "\n",
    "        # Train the generator\n",
    "        noise = np.random.normal(0, 1, (batch_size, latent_dim))\n",
    "        g_loss = gan.train_on_batch(noise, np.ones((batch_size, 1)))\n",
    "\n",
    "        if epoch % 100 == 0:\n",
    "            print(f\"Epoch: {epoch}, Discriminator Loss: {d_loss[0]}, Generator Loss: {g_loss}\")\n",
    "\n",
    "def generate_images(generator, num_images, latent_dim):\n",
    "    noise = np.random.normal(0, 1, (num_images, latent_dim))\n",
    "    generated_images = generator.predict(noise)\n",
    "    return generated_images\n",
    "\n",
    "latent_dim = 100\n",
    "train_gan(epochs=100, batch_size=64, latent_dim=latent_dim)\n",
    "\n",
    "\n",
    "generator = build_generator(latent_dim)\n",
    "generated_images = generate_images(generator, num_images=10, latent_dim=latent_dim)\n",
    "\n",
    "\n",
    "plt.figure(figsize=(10, 10))\n",
    "for i in range(10):\n",
    "    plt.subplot(1, 10, i + 1)\n",
    "    plt.imshow(generated_images[i], cmap='gray')\n",
    "    plt.axis('off')\n",
    "plt.show()\n"
   ]
  },
  {
   "cell_type": "markdown",
   "id": "283c3be7-38a0-464a-98c9-603dad957b45",
   "metadata": {},
   "source": [
    " # 20. Problem: Write a Python function to perform time series forecasting using an ARIMA (Auto Regressive Integrated Moving Average) model, given a sequence of historical data."
   ]
  },
  {
   "cell_type": "code",
   "execution_count": 2,
   "id": "b3c49f00-6bb1-450d-a9b2-1c1cfbd3401e",
   "metadata": {},
   "outputs": [
    {
     "ename": "ModuleNotFoundError",
     "evalue": "No module named 'statsmodels'",
     "output_type": "error",
     "traceback": [
      "\u001b[1;31m---------------------------------------------------------------------------\u001b[0m",
      "\u001b[1;31mModuleNotFoundError\u001b[0m                       Traceback (most recent call last)",
      "Cell \u001b[1;32mIn[2], line 4\u001b[0m\n\u001b[0;32m      2\u001b[0m \u001b[38;5;28;01mimport\u001b[39;00m \u001b[38;5;21;01mpandas\u001b[39;00m \u001b[38;5;28;01mas\u001b[39;00m \u001b[38;5;21;01mpd\u001b[39;00m\n\u001b[0;32m      3\u001b[0m \u001b[38;5;28;01mimport\u001b[39;00m \u001b[38;5;21;01mmatplotlib\u001b[39;00m\u001b[38;5;21;01m.\u001b[39;00m\u001b[38;5;21;01mpyplot\u001b[39;00m \u001b[38;5;28;01mas\u001b[39;00m \u001b[38;5;21;01mplt\u001b[39;00m\n\u001b[1;32m----> 4\u001b[0m \u001b[38;5;28;01mfrom\u001b[39;00m \u001b[38;5;21;01mstatsmodels\u001b[39;00m\u001b[38;5;21;01m.\u001b[39;00m\u001b[38;5;21;01mtsa\u001b[39;00m\u001b[38;5;21;01m.\u001b[39;00m\u001b[38;5;21;01marima\u001b[39;00m\u001b[38;5;21;01m.\u001b[39;00m\u001b[38;5;21;01mmodel\u001b[39;00m \u001b[38;5;28;01mimport\u001b[39;00m ARIMA\n\u001b[0;32m      5\u001b[0m \u001b[38;5;28;01mfrom\u001b[39;00m \u001b[38;5;21;01mstatsmodels\u001b[39;00m\u001b[38;5;21;01m.\u001b[39;00m\u001b[38;5;21;01mgraphics\u001b[39;00m\u001b[38;5;21;01m.\u001b[39;00m\u001b[38;5;21;01mtsaplots\u001b[39;00m \u001b[38;5;28;01mimport\u001b[39;00m plot_acf, plot_pacf\n\u001b[0;32m      7\u001b[0m \u001b[38;5;28;01mdef\u001b[39;00m \u001b[38;5;21mtime_series_forecasting\u001b[39m(data, order, forecast_steps):\n",
      "\u001b[1;31mModuleNotFoundError\u001b[0m: No module named 'statsmodels'"
     ]
    }
   ],
   "source": [
    "import numpy as np\n",
    "import pandas as pd\n",
    "import matplotlib.pyplot as plt\n",
    "from statsmodels.tsa.arima.model import ARIMA\n",
    "from statsmodels.graphics.tsaplots import plot_acf, plot_pacf\n",
    "\n",
    "def time_series_forecasting(data, order, forecast_steps):\n",
    "    model = ARIMA(data, order=order)\n",
    "    model_fit = model.fit()\n",
    "\n",
    "    forecast = model_fit.forecast(steps=forecast_steps)\n",
    "    return forecast, model_fit\n",
    "\n",
    "np.random.seed(42)\n",
    "time = np.arange(100)\n",
    "data = 10 + 0.5 * time + np.random.normal(scale=5, size=time.shape)\n",
    "\n",
    "data_series = pd.Series(data)\n",
    "\n",
    "plt.figure(figsize=(10, 5))\n",
    "plt.plot(data_series, label='Historical Data')\n",
    "plt.title('Time Series Data')\n",
    "plt.xlabel('Time')\n",
    "plt.ylabel('Value')\n",
    "plt.legend()\n",
    "plt.show()\n",
    "\n",
    "p = 1  \n",
    "d = 1  \n",
    "q = 1  \n",
    "order = (p, d, q)\n",
    "\n",
    "forecast_steps = 10\n",
    "forecast, model_fit = time_series_forecasting(data_series, order, forecast_steps)\n",
    "\n",
    "plt.figure(figsize=(10, 5))\n",
    "plt.plot(data_series, label='Historical Data')\n",
    "plt.plot(np.arange(len(data_series), len(data_series) + forecast_steps), forecast, label='Forecast', color='red')\n",
    "plt.title('Time Series Forecasting using ARIMA')\n",
    "plt.xlabel('Time')\n",
    "plt.ylabel('Value')\n",
    "plt.axvline(x=len(data_series), color='grey', linestyle='--', label='Forecast Start')\n",
    "plt.legend()\n",
    "plt.show()\n",
    "\n",
    "print(\"Forecasted Values:\")\n",
    "print(forecast)\n"
   ]
  },
  {
   "cell_type": "code",
   "execution_count": null,
   "id": "f4ee2bd1-226e-4da7-a863-4e5fc576e4b8",
   "metadata": {},
   "outputs": [],
   "source": []
  }
 ],
 "metadata": {
  "kernelspec": {
   "display_name": "Python 3 (ipykernel)",
   "language": "python",
   "name": "python3"
  },
  "language_info": {
   "codemirror_mode": {
    "name": "ipython",
    "version": 3
   },
   "file_extension": ".py",
   "mimetype": "text/x-python",
   "name": "python",
   "nbconvert_exporter": "python",
   "pygments_lexer": "ipython3",
   "version": "3.12.4"
  }
 },
 "nbformat": 4,
 "nbformat_minor": 5
}
