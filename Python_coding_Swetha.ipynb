{
 "cells": [
  {
   "cell_type": "code",
   "execution_count": 8,
   "metadata": {},
   "outputs": [
    {
     "name": "stdout",
     "output_type": "stream",
     "text": [
      "Second Largest Element: 58\n"
     ]
    }
   ],
   "source": [
    "# Find the second largest element in a list (without using max() function)\n",
    "def s_l(list1):\n",
    "    first = second = float('-inf')\n",
    "    for n in list1:\n",
    "        if n > first:\n",
    "            second = first\n",
    "            first = n\n",
    "        elif first > n > second:\n",
    "            second = n\n",
    "    return second if second != float('-inf') else None\n",
    "\n",
    "list1 = list(map(int, input(\"Enter elements: \").split()))\n",
    "print(\"Second Largest Element:\", s_l(list1))\n"
   ]
  },
  {
   "cell_type": "code",
   "execution_count": 18,
   "metadata": {},
   "outputs": [
    {
     "name": "stdout",
     "output_type": "stream",
     "text": [
      "5 is a prime number.\n"
     ]
    }
   ],
   "source": [
    "# Check if a number is prime\n",
    "def is_prime(n):\n",
    "    if n<=1:\n",
    "        return False\n",
    "    for i in range(2, int(n**0.5)+1):\n",
    "        if n%i==0:\n",
    "            return False\n",
    "    return True\n",
    "n = int(input(\"Enter a number:\"))\n",
    "# print(\"number is:\", is_prime(n))\n",
    "if is_prime(n):\n",
    "    print(f\"{n} is a prime number.\")\n",
    "else:\n",
    "    print(f\"{n} is not a prime number.\")"
   ]
  },
  {
   "cell_type": "code",
   "execution_count": 19,
   "metadata": {},
   "outputs": [
    {
     "name": "stdout",
     "output_type": "stream",
     "text": [
      "Reversed string: utiahc\n"
     ]
    }
   ],
   "source": [
    "#Reverse a string without using inbuilt functions\n",
    "def reverse_string(s):\n",
    "    rev = ''\n",
    "    for char in s:\n",
    "        rev = char + rev\n",
    "    return rev\n",
    "\n",
    "s = input(\"Enter a string: \")\n",
    "print(\"Reversed string:\", reverse_string(s))\n"
   ]
  },
  {
   "cell_type": "code",
   "execution_count": 20,
   "metadata": {},
   "outputs": [
    {
     "name": "stdout",
     "output_type": "stream",
     "text": [
      "Merged array: [1, 2, 3, 4, 5, 6]\n"
     ]
    }
   ],
   "source": [
    "#Merge two sorted arrays into a single sorted array\n",
    "def merge_sorted_arrays(arr1, arr2):\n",
    "    merged = []\n",
    "    i = j = 0\n",
    "    while i < len(arr1) and j < len(arr2):\n",
    "        if arr1[i] < arr2[j]:\n",
    "            merged.append(arr1[i])\n",
    "            i += 1\n",
    "        else:\n",
    "            merged.append(arr2[j])\n",
    "            j += 1\n",
    "    merged.extend(arr1[i:])\n",
    "    merged.extend(arr2[j:])\n",
    "    return merged\n",
    "\n",
    "arr1 = list(map(int, input(\"Enter sorted elements of first list: \").split()))\n",
    "arr2 = list(map(int, input(\"Enter sorted elements of second list: \").split()))\n",
    "print(\"Merged array:\", merge_sorted_arrays(arr1, arr2))\n"
   ]
  },
  {
   "cell_type": "code",
   "execution_count": 21,
   "metadata": {},
   "outputs": [
    {
     "name": "stdout",
     "output_type": "stream",
     "text": [
      "Factorial of 5 is: 120\n"
     ]
    }
   ],
   "source": [
    "#Factorial of a number using recursion\n",
    "def factorial(n):\n",
    "    if n == 0:\n",
    "        return 1\n",
    "    return n * factorial(n - 1)\n",
    "\n",
    "n = int(input(\"Enter a number: \"))\n",
    "print(f\"Factorial of {n} is:\", factorial(n))"
   ]
  },
  {
   "cell_type": "code",
   "execution_count": 22,
   "metadata": {},
   "outputs": [
    {
     "name": "stdout",
     "output_type": "stream",
     "text": [
      "Maximum subarray sum: 24\n"
     ]
    }
   ],
   "source": [
    "#Largest contiguous subarray sum (Kadane’s Algorithm)\n",
    "def max_subarray_sum(arr):\n",
    "    max_sum = current_sum = arr[0]\n",
    "    for num in arr[1:]:\n",
    "        current_sum = max(num, current_sum + num)\n",
    "        max_sum = max(max_sum, current_sum)\n",
    "    return max_sum\n",
    "\n",
    "arr = list(map(int, input(\"Enter elements of the list separated by space: \").split()))\n",
    "print(\"Maximum subarray sum:\", max_subarray_sum(arr))"
   ]
  },
  {
   "cell_type": "code",
   "execution_count": 23,
   "metadata": {},
   "outputs": [
    {
     "name": "stdout",
     "output_type": "stream",
     "text": [
      "Is 'radar' a palindrome?: True\n"
     ]
    }
   ],
   "source": [
    "#Check if a given string is a palindrome\n",
    "def is_palindrome(s):\n",
    "    return s == s[::-1]\n",
    "\n",
    "s = input(\"Enter a string: \")\n",
    "print(f\"Is '{s}' a palindrome?:\", is_palindrome(s))"
   ]
  },
  {
   "cell_type": "code",
   "execution_count": 26,
   "metadata": {},
   "outputs": [
    {
     "name": "stdout",
     "output_type": "stream",
     "text": [
      "Binary of 5 is: 101\n"
     ]
    }
   ],
   "source": [
    "#Convert a decimal number to binary (without built-in functions)\n",
    "def decimal_to_binary(n):\n",
    "    if n == 0:\n",
    "        return \"0\"\n",
    "    binary = ''\n",
    "    while n > 0:\n",
    "        binary = str(n % 2) + binary\n",
    "        n = n // 2\n",
    "    return binary\n",
    "\n",
    "n = int(input(\"Enter a decimal number: \"))\n",
    "print(f\"Binary of {n} is:\", decimal_to_binary(n))"
   ]
  },
  {
   "cell_type": "code",
   "execution_count": 27,
   "metadata": {},
   "outputs": [
    {
     "name": "stdout",
     "output_type": "stream",
     "text": [
      "Pairs with sum 10 : [(3, 7)]\n"
     ]
    }
   ],
   "source": [
    "#Find pairs in an array with a given sum\n",
    "def find_pairs(arr, target):\n",
    "    pairs = []\n",
    "    seen = set()\n",
    "    for num in arr:\n",
    "        diff = target - num\n",
    "        if diff in seen:\n",
    "            pairs.append((diff, num))\n",
    "        seen.add(num)\n",
    "    return pairs\n",
    "\n",
    "arr = list(map(int, input(\"Enter elements of the list: \").split()))\n",
    "target = int(input(\"Enter target sum: \"))\n",
    "print(\"Pairs with sum\", target, \":\", find_pairs(arr, target))"
   ]
  },
  {
   "cell_type": "code",
   "execution_count": 28,
   "metadata": {},
   "outputs": [
    {
     "name": "stdout",
     "output_type": "stream",
     "text": [
      "Frequency of elements: {5: 1, 8: 1, 3: 1, 1: 1}\n"
     ]
    }
   ],
   "source": [
    "#Count the frequency of elements in a list\n",
    "from collections import Counter\n",
    "\n",
    "def count_frequency(lst):\n",
    "    return dict(Counter(lst))\n",
    "\n",
    "lst = list(map(int, input(\"Enter elements of the list: \").split()))\n",
    "print(\"Frequency of elements:\", count_frequency(lst))"
   ]
  },
  {
   "cell_type": "code",
   "execution_count": 29,
   "metadata": {},
   "outputs": [
    {
     "name": "stdout",
     "output_type": "stream",
     "text": [
      "Fibonacci sequence:\n",
      "0 1 1 2 3 5 8 13 "
     ]
    }
   ],
   "source": [
    "#Fibonacci sequence using recursion\n",
    "def fibonacci(n):\n",
    "    if n <= 1:\n",
    "        return n\n",
    "    return fibonacci(n - 1) + fibonacci(n - 2)\n",
    "\n",
    "n = int(input(\"Enter the number of Fibonacci terms to generate: \"))\n",
    "print(\"Fibonacci sequence:\")\n",
    "for i in range(n):\n",
    "    print(fibonacci(i), end=\" \")"
   ]
  },
  {
   "cell_type": "code",
   "execution_count": 30,
   "metadata": {},
   "outputs": [
    {
     "name": "stdout",
     "output_type": "stream",
     "text": [
      "List without duplicates: [4, 5, 2, 6]\n"
     ]
    }
   ],
   "source": [
    "#Remove duplicates from a list (preserving order)\n",
    "def remove_duplicates(lst):\n",
    "    seen = set()\n",
    "    return [x for x in lst if not (x in seen or seen.add(x))]\n",
    "\n",
    "lst = list(map(int, input(\"Enter elements of the list: \").split()))\n",
    "print(\"List without duplicates:\", remove_duplicates(lst))"
   ]
  },
  {
   "cell_type": "code",
   "execution_count": 32,
   "metadata": {},
   "outputs": [
    {
     "name": "stdout",
     "output_type": "stream",
     "text": [
      "Are 'hello' and 'elloh' anagrams?: True\n"
     ]
    }
   ],
   "source": [
    "#Check if two strings are anagrams\n",
    "def are_anagrams(str1, str2):\n",
    "    return sorted(str1) == sorted(str2)\n",
    "\n",
    "str1 = input(\"Enter first string: \")\n",
    "str2 = input(\"Enter second string: \")\n",
    "print(f\"Are '{str1}' and '{str2}' anagrams?:\", are_anagrams(str1, str2))"
   ]
  },
  {
   "cell_type": "code",
   "execution_count": 33,
   "metadata": {},
   "outputs": [
    {
     "name": "stdout",
     "output_type": "stream",
     "text": [
      "Vowels: 4, Consonants: 5\n"
     ]
    }
   ],
   "source": [
    "#Count vowels and consonants in a string\n",
    "def count_vowels_consonants(s):\n",
    "    vowels = \"aeiouAEIOU\"\n",
    "    v_count = c_count = 0\n",
    "    for char in s:\n",
    "        if char.isalpha():\n",
    "            if char in vowels:\n",
    "                v_count += 1\n",
    "            else:\n",
    "                c_count += 1\n",
    "    return v_count, c_count\n",
    "\n",
    "s = input(\"Enter a string: \")\n",
    "vowels, consonants = count_vowels_consonants(s)\n",
    "print(f\"Vowels: {vowels}, Consonants: {consonants}\")"
   ]
  },
  {
   "cell_type": "code",
   "execution_count": 34,
   "metadata": {},
   "outputs": [
    {
     "name": "stdout",
     "output_type": "stream",
     "text": [
      "Element found at index 4\n"
     ]
    }
   ],
   "source": [
    "#Binary search algorithm\n",
    "def binary_search(arr, target):\n",
    "    left, right = 0, len(arr) - 1\n",
    "    while left <= right:\n",
    "        mid = (left + right) // 2\n",
    "        if arr[mid] == target:\n",
    "            return mid\n",
    "        elif arr[mid] < target:\n",
    "            left = mid + 1\n",
    "        else:\n",
    "            right = mid - 1\n",
    "    return -1\n",
    "\n",
    "arr = list(map(int, input(\"Enter sorted elements of the list: \").split()))\n",
    "target = int(input(\"Enter target value: \"))\n",
    "result = binary_search(arr, target)\n",
    "if result != -1:\n",
    "    print(f\"Element found at index {result}\")\n",
    "else:\n",
    "    print(\"Element not found\")"
   ]
  },
  {
   "cell_type": "code",
   "execution_count": 35,
   "metadata": {},
   "outputs": [
    {
     "name": "stdout",
     "output_type": "stream",
     "text": [
      "Is the list sorted?: True\n"
     ]
    }
   ],
   "source": [
    "#Check if a list is sorted\n",
    "def is_sorted(lst):\n",
    "    return all(lst[i] <= lst[i + 1] for i in range(len(lst) - 1))\n",
    "\n",
    "lst = list(map(int, input(\"Enter elements of the list: \").split()))\n",
    "print(\"Is the list sorted?:\", is_sorted(lst))\n"
   ]
  },
  {
   "cell_type": "code",
   "execution_count": 36,
   "metadata": {},
   "outputs": [
    {
     "name": "stdout",
     "output_type": "stream",
     "text": [
      "Transposed matrix:\n",
      "[1, 3]\n",
      "[2, 4]\n"
     ]
    }
   ],
   "source": [
    "#Transpose of a matrix\n",
    "def transpose(matrix):\n",
    "    return [list(row) for row in zip(*matrix)]\n",
    "\n",
    "rows = int(input(\"Enter the number of rows: \"))\n",
    "matrix = [list(map(int, input(f\"Enter row {i+1} elements: \").split())) for i in range(rows)]\n",
    "print(\"Transposed matrix:\")\n",
    "for row in transpose(matrix):\n",
    "    print(row)"
   ]
  },
  {
   "cell_type": "code",
   "execution_count": null,
   "metadata": {},
   "outputs": [],
   "source": []
  }
 ],
 "metadata": {
  "kernelspec": {
   "display_name": "Python 3",
   "language": "python",
   "name": "python3"
  },
  "language_info": {
   "codemirror_mode": {
    "name": "ipython",
    "version": 3
   },
   "file_extension": ".py",
   "mimetype": "text/x-python",
   "name": "python",
   "nbconvert_exporter": "python",
   "pygments_lexer": "ipython3",
   "version": "3.11.2"
  }
 },
 "nbformat": 4,
 "nbformat_minor": 2
}
